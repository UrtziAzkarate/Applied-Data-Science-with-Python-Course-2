{
 "cells": [
  {
   "cell_type": "code",
   "execution_count": 1,
   "metadata": {
    "deletable": false,
    "editable": false,
    "nbgrader": {
     "cell_type": "code",
     "checksum": "e45d05a7e6705e7bc18fff5d5890ef58",
     "grade": false,
     "grade_id": "cell-44ca835c70f3040a",
     "locked": true,
     "schema_version": 3,
     "solution": false,
     "task": false
    }
   },
   "outputs": [
    {
     "data": {
      "application/javascript": [
       "IPython.OutputArea.prototype._should_scroll = function(lines) {\n",
       "    return false; // disable scroll bar when displaying Folium map\n",
       "}\n"
      ],
      "text/plain": [
       "<IPython.core.display.Javascript object>"
      ]
     },
     "metadata": {},
     "output_type": "display_data"
    }
   ],
   "source": [
    "%%javascript\n",
    "IPython.OutputArea.prototype._should_scroll = function(lines) {\n",
    "    return false; // disable scroll bar when displaying Folium map\n",
    "}"
   ]
  },
  {
   "cell_type": "markdown",
   "metadata": {
    "deletable": false,
    "editable": false,
    "nbgrader": {
     "cell_type": "markdown",
     "checksum": "ae6111747a75bdb5c5393f44d1045577",
     "grade": false,
     "grade_id": "cell-c676d66924c74eea",
     "locked": true,
     "schema_version": 3,
     "solution": false,
     "task": false
    }
   },
   "source": [
    "# Assignment 2\n",
    "\n",
    "Before working on this assignment please read these instructions fully. In the submission area, you will notice that you can click the link to **Preview the Grading** for each step of the assignment. This is the criteria that will be used for peer grading. Please familiarize yourself with the criteria before beginning the assignment.\n",
    "\n",
    "The data for this assignment comes from a subset of The National Centers for Environmental Information (NCEI) [Global Historical Climatology Network daily (GHCNd)](https://www.ncei.noaa.gov/products/land-based-station/global-historical-climatology-network-daily) (GHCN-Daily). The GHCN-Daily is comprised of daily climate records from thousands of land surface stations across the globe - it's a wonderfully large dataset to play with! In particular, you will be asked to use data from the Ann Arbor Michigan location (my home!). and this is stored in the file: `assets/fb441e62df2d58994928907a91895ec62c2c42e6cd075c2700843b89.csv`\n",
    "\n",
    "Each row in this datafile corresponds to a single observation from a weather station, and has the following variables:\n",
    "* **id** : station identification code\n",
    "* **date** : date in YYYY-MM-DD format (e.g. 2012-01-24 = January 24, 2012)\n",
    "* **element** : indicator of element type\n",
    "    * TMAX : Maximum temperature (tenths of degrees C)\n",
    "    * TMIN : Minimum temperature (tenths of degrees C)\n",
    "* **value** : data value for element (tenths of degrees C)\n",
    "\n",
    "For this assignment, you must:\n",
    "\n",
    "1. Read the documentation and familiarize yourself with the dataset, then write a python notebook which plots line graphs of the record high and record low temperatures by day of the year over the period 2005-2014. The area between the record high and record low temperatures for each day should be shaded.\n",
    "2. Overlay a scatter of the 2015 data for any points (highs and lows) for which the ten year record (2005-2014) record high or record low was broken in 2015. (Based on the graph, do you think extreme weather is getting more frequent in 2015?)\n",
    "3. Watch out for leap days (i.e. February 29th), it is reasonable to remove these points from the dataset for the purpose of this visualization.\n",
    "4. Make the visual nice! Leverage principles from the first module in this course when developing your solution. Consider issues such as legends, labels, and chart junk.\n",
    "\n",
    "I've written some steps I think would be good to go through, but there are other ways to solve this assignment so feel free to explore the pandas library! What I really want to see is an image that looks like this sketch I drew at my desk:\n",
    "\n",
    "![](assets/chris_sketch.png)"
   ]
  },
  {
   "cell_type": "code",
   "execution_count": 2,
   "metadata": {
    "deletable": false,
    "editable": false,
    "nbgrader": {
     "cell_type": "code",
     "checksum": "d8d9355fc55599cd2ad34fdd140baac1",
     "grade": false,
     "grade_id": "cell-f01cb0e8645e7c07",
     "locked": true,
     "schema_version": 3,
     "solution": false,
     "task": false
    }
   },
   "outputs": [
    {
     "data": {
      "text/html": [
       "<div style=\"width:100%;\"><div style=\"position:relative;width:100%;height:0;padding-bottom:60%;\"><span style=\"color:#565656\">Make this Notebook Trusted to load map: File -> Trust Notebook</span><iframe srcdoc=\"&lt;!DOCTYPE html&gt;\n",
       "&lt;html&gt;\n",
       "&lt;head&gt;\n",
       "    \n",
       "    &lt;meta http-equiv=&quot;content-type&quot; content=&quot;text/html; charset=UTF-8&quot; /&gt;\n",
       "    \n",
       "        &lt;script&gt;\n",
       "            L_NO_TOUCH = false;\n",
       "            L_DISABLE_3D = false;\n",
       "        &lt;/script&gt;\n",
       "    \n",
       "    &lt;style&gt;html, body {width: 100%;height: 100%;margin: 0;padding: 0;}&lt;/style&gt;\n",
       "    &lt;style&gt;#map {position:absolute;top:0;bottom:0;right:0;left:0;}&lt;/style&gt;\n",
       "    &lt;script src=&quot;https://cdn.jsdelivr.net/npm/leaflet@1.6.0/dist/leaflet.js&quot;&gt;&lt;/script&gt;\n",
       "    &lt;script src=&quot;https://code.jquery.com/jquery-1.12.4.min.js&quot;&gt;&lt;/script&gt;\n",
       "    &lt;script src=&quot;https://maxcdn.bootstrapcdn.com/bootstrap/3.2.0/js/bootstrap.min.js&quot;&gt;&lt;/script&gt;\n",
       "    &lt;script src=&quot;https://cdnjs.cloudflare.com/ajax/libs/Leaflet.awesome-markers/2.0.2/leaflet.awesome-markers.js&quot;&gt;&lt;/script&gt;\n",
       "    &lt;link rel=&quot;stylesheet&quot; href=&quot;https://cdn.jsdelivr.net/npm/leaflet@1.6.0/dist/leaflet.css&quot;/&gt;\n",
       "    &lt;link rel=&quot;stylesheet&quot; href=&quot;https://maxcdn.bootstrapcdn.com/bootstrap/3.2.0/css/bootstrap.min.css&quot;/&gt;\n",
       "    &lt;link rel=&quot;stylesheet&quot; href=&quot;https://maxcdn.bootstrapcdn.com/bootstrap/3.2.0/css/bootstrap-theme.min.css&quot;/&gt;\n",
       "    &lt;link rel=&quot;stylesheet&quot; href=&quot;https://maxcdn.bootstrapcdn.com/font-awesome/4.6.3/css/font-awesome.min.css&quot;/&gt;\n",
       "    &lt;link rel=&quot;stylesheet&quot; href=&quot;https://cdnjs.cloudflare.com/ajax/libs/Leaflet.awesome-markers/2.0.2/leaflet.awesome-markers.css&quot;/&gt;\n",
       "    &lt;link rel=&quot;stylesheet&quot; href=&quot;https://cdn.jsdelivr.net/gh/python-visualization/folium/folium/templates/leaflet.awesome.rotate.min.css&quot;/&gt;\n",
       "    \n",
       "            &lt;meta name=&quot;viewport&quot; content=&quot;width=device-width,\n",
       "                initial-scale=1.0, maximum-scale=1.0, user-scalable=no&quot; /&gt;\n",
       "            &lt;style&gt;\n",
       "                #map_ea281683617692906ce5daa04a4751d6 {\n",
       "                    position: relative;\n",
       "                    width: 100.0%;\n",
       "                    height: 500.0px;\n",
       "                    left: 0.0%;\n",
       "                    top: 0.0%;\n",
       "                }\n",
       "            &lt;/style&gt;\n",
       "        \n",
       "&lt;/head&gt;\n",
       "&lt;body&gt;\n",
       "    \n",
       "    \n",
       "            &lt;div class=&quot;folium-map&quot; id=&quot;map_ea281683617692906ce5daa04a4751d6&quot; &gt;&lt;/div&gt;\n",
       "        \n",
       "&lt;/body&gt;\n",
       "&lt;script&gt;\n",
       "    \n",
       "    \n",
       "            var map_ea281683617692906ce5daa04a4751d6 = L.map(\n",
       "                &quot;map_ea281683617692906ce5daa04a4751d6&quot;,\n",
       "                {\n",
       "                    center: [41.9164, -84.0158],\n",
       "                    crs: L.CRS.EPSG3857,\n",
       "                    zoom: 9,\n",
       "                    zoomControl: true,\n",
       "                    preferCanvas: false,\n",
       "                }\n",
       "            );\n",
       "\n",
       "            \n",
       "\n",
       "        \n",
       "    \n",
       "            var tile_layer_9d5dbf6b7f075b5160e2b6fef720fd13 = L.tileLayer(\n",
       "                &quot;https://{s}.tile.openstreetmap.org/{z}/{x}/{y}.png&quot;,\n",
       "                {&quot;attribution&quot;: &quot;Data by \\u0026copy; \\u003ca href=\\&quot;http://openstreetmap.org\\&quot;\\u003eOpenStreetMap\\u003c/a\\u003e, under \\u003ca href=\\&quot;http://www.openstreetmap.org/copyright\\&quot;\\u003eODbL\\u003c/a\\u003e.&quot;, &quot;detectRetina&quot;: false, &quot;maxNativeZoom&quot;: 18, &quot;maxZoom&quot;: 18, &quot;minZoom&quot;: 0, &quot;noWrap&quot;: false, &quot;opacity&quot;: 1, &quot;subdomains&quot;: &quot;abc&quot;, &quot;tms&quot;: false}\n",
       "            ).addTo(map_ea281683617692906ce5daa04a4751d6);\n",
       "        \n",
       "    \n",
       "            var marker_4de4f2ba701694e83f7ce7de5a19fa69 = L.marker(\n",
       "                [41.9164, -84.0158],\n",
       "                {}\n",
       "            ).addTo(map_ea281683617692906ce5daa04a4751d6);\n",
       "        \n",
       "    \n",
       "            var marker_2619e5cdd529193a149b3bf27952602c = L.marker(\n",
       "                [42.2875, -83.7611],\n",
       "                {}\n",
       "            ).addTo(map_ea281683617692906ce5daa04a4751d6);\n",
       "        \n",
       "    \n",
       "            var marker_dfe4a5074e2bef4293beb75828a2245b = L.marker(\n",
       "                [42.2417, -83.6933],\n",
       "                {}\n",
       "            ).addTo(map_ea281683617692906ce5daa04a4751d6);\n",
       "        \n",
       "    \n",
       "            var marker_739868a5777501b4bbbe81ec6ce32d66 = L.marker(\n",
       "                [42.2947, -83.7108],\n",
       "                {}\n",
       "            ).addTo(map_ea281683617692906ce5daa04a4751d6);\n",
       "        \n",
       "    \n",
       "            var marker_9a5c913deb7e82bb4af482aaa245acc4 = L.marker(\n",
       "                [41.84, -83.8608],\n",
       "                {}\n",
       "            ).addTo(map_ea281683617692906ce5daa04a4751d6);\n",
       "        \n",
       "    \n",
       "            var marker_ea6015045f1ecaf409ee81da16e31e82 = L.marker(\n",
       "                [42.0636, -83.4358],\n",
       "                {}\n",
       "            ).addTo(map_ea281683617692906ce5daa04a4751d6);\n",
       "        \n",
       "    \n",
       "            var marker_6fefa97552135201c443c771b8781cdf = L.marker(\n",
       "                [42.3264, -84.0133],\n",
       "                {}\n",
       "            ).addTo(map_ea281683617692906ce5daa04a4751d6);\n",
       "        \n",
       "    \n",
       "            var marker_529e7aa5ade2659c3e63c68ffc2dbf8e = L.marker(\n",
       "                [41.9553, -83.6489],\n",
       "                {}\n",
       "            ).addTo(map_ea281683617692906ce5daa04a4751d6);\n",
       "        \n",
       "    \n",
       "            var marker_ba848ecb619cf9a4447d6e2543c6bb50 = L.marker(\n",
       "                [42.4344, -83.9858],\n",
       "                {}\n",
       "            ).addTo(map_ea281683617692906ce5daa04a4751d6);\n",
       "        \n",
       "    \n",
       "            var marker_c604a86804730032d52aedf39f4ac2b8 = L.marker(\n",
       "                [42.1508, -84.0236],\n",
       "                {}\n",
       "            ).addTo(map_ea281683617692906ce5daa04a4751d6);\n",
       "        \n",
       "    \n",
       "            var marker_79b4e7e2ed0ec1edc2ff4bd58bf0c12e = L.marker(\n",
       "                [42.0664, -83.6186],\n",
       "                {}\n",
       "            ).addTo(map_ea281683617692906ce5daa04a4751d6);\n",
       "        \n",
       "    \n",
       "            var marker_2cb99c78b2f9c378e774e8507d4ff266 = L.marker(\n",
       "                [42.0811, -83.6769],\n",
       "                {}\n",
       "            ).addTo(map_ea281683617692906ce5daa04a4751d6);\n",
       "        \n",
       "    \n",
       "            var marker_b68374af8f285be14799b8f3f798be15 = L.marker(\n",
       "                [41.9069, -83.4158],\n",
       "                {}\n",
       "            ).addTo(map_ea281683617692906ce5daa04a4751d6);\n",
       "        \n",
       "    \n",
       "            var marker_0553d3be0c6c29428eeef62d8f04f758 = L.marker(\n",
       "                [41.9497, -83.28],\n",
       "                {}\n",
       "            ).addTo(map_ea281683617692906ce5daa04a4751d6);\n",
       "        \n",
       "    \n",
       "            var marker_382a53f0607afdbfdc7b3c321ad43666 = L.marker(\n",
       "                [42.1611, -83.7819],\n",
       "                {}\n",
       "            ).addTo(map_ea281683617692906ce5daa04a4751d6);\n",
       "        \n",
       "    \n",
       "            var marker_a6a7f1efb09cabc77b5dbeb744c057b0 = L.marker(\n",
       "                [42.1236, -83.82],\n",
       "                {}\n",
       "            ).addTo(map_ea281683617692906ce5daa04a4751d6);\n",
       "        \n",
       "    \n",
       "            var marker_d9b8da8fcef2b5f53e6a345466e58c03 = L.marker(\n",
       "                [41.8069, -83.5831],\n",
       "                {}\n",
       "            ).addTo(map_ea281683617692906ce5daa04a4751d6);\n",
       "        \n",
       "    \n",
       "            var marker_a19f0697de8a4ad230252eecb4de89e0 = L.marker(\n",
       "                [42.0028, -83.9336],\n",
       "                {}\n",
       "            ).addTo(map_ea281683617692906ce5daa04a4751d6);\n",
       "        \n",
       "    \n",
       "            var marker_94e7dff8bd0e3ac62df52dea0396cda5 = L.marker(\n",
       "                [42.0283, -84.1108],\n",
       "                {}\n",
       "            ).addTo(map_ea281683617692906ce5daa04a4751d6);\n",
       "        \n",
       "    \n",
       "            var marker_0f2680d215b3d9ee5253839dd16c3429 = L.marker(\n",
       "                [42.4356, -83.7831],\n",
       "                {}\n",
       "            ).addTo(map_ea281683617692906ce5daa04a4751d6);\n",
       "        \n",
       "    \n",
       "            var marker_b452f387f126ecfb271a32abb29bcf31 = L.marker(\n",
       "                [41.5631, -83.4764],\n",
       "                {}\n",
       "            ).addTo(map_ea281683617692906ce5daa04a4751d6);\n",
       "        \n",
       "    \n",
       "            var marker_d3e8d7222a5bddc01393c9557eb745af = L.marker(\n",
       "                [42.2667, -84.4667],\n",
       "                {}\n",
       "            ).addTo(map_ea281683617692906ce5daa04a4751d6);\n",
       "        \n",
       "    \n",
       "            var marker_a6d72661540381022e69386b14d7d817 = L.marker(\n",
       "                [42.2333, -83.5333],\n",
       "                {}\n",
       "            ).addTo(map_ea281683617692906ce5daa04a4751d6);\n",
       "        \n",
       "    \n",
       "            var marker_0beb29c645866df70467023ba3013b8e = L.marker(\n",
       "                [42.2228, -83.7444],\n",
       "                {}\n",
       "            ).addTo(map_ea281683617692906ce5daa04a4751d6);\n",
       "        \n",
       "&lt;/script&gt;\n",
       "&lt;/html&gt;\" style=\"position:absolute;width:100%;height:100%;left:0;top:0;border:none !important;\" allowfullscreen webkitallowfullscreen mozallowfullscreen></iframe></div></div>"
      ],
      "text/plain": [
       "<folium.folium.Map at 0x7fe4844fc9d0>"
      ]
     },
     "metadata": {},
     "output_type": "display_data"
    }
   ],
   "source": [
    "#  I'll be using the folium package to render the data into a map in Jupyter.\n",
    "\n",
    "import folium\n",
    "import pandas as pd\n",
    "\n",
    "# get the location information for this dataset\n",
    "df = pd.read_csv('assets/BinSize_d400.csv')\n",
    "station_locations_by_hash = df[df['hash'] == 'fb441e62df2d58994928907a91895ec62c2c42e6cd075c2700843b89']\n",
    "\n",
    "# get longitude and lattitude to plot\n",
    "lons = station_locations_by_hash['LONGITUDE'].tolist()\n",
    "lats = station_locations_by_hash['LATITUDE'].tolist()\n",
    "\n",
    "# plot on a beautiful folium map\n",
    "my_map = folium.Map(location = [lats[0], lons[0]], height = 500,  zoom_start = 9)\n",
    "for lat, lon in zip(lats, lons):\n",
    "    folium.Marker([lat, lon]).add_to(my_map)\n",
    "\n",
    "# render map in Jupyter\n",
    "display(my_map)"
   ]
  },
  {
   "cell_type": "markdown",
   "metadata": {
    "deletable": false,
    "editable": false,
    "nbgrader": {
     "cell_type": "markdown",
     "checksum": "d2ee9d3c5ac53844b3ed48aa157f6204",
     "grade": false,
     "grade_id": "cell-695e4689bc5509b6",
     "locked": true,
     "schema_version": 3,
     "solution": false,
     "task": false
    }
   },
   "source": [
    "## Step 1\n",
    "Load the dataset and transform the data into Celsius (refer to documentation) then extract all of the rows which have minimum or maximum temperatures.\n",
    "\n",
    "__hint: when I did this step I had two DataFrame objects, each with ~80,000 entries in it__"
   ]
  },
  {
   "cell_type": "code",
   "execution_count": 3,
   "metadata": {
    "deletable": false,
    "editable": false,
    "nbgrader": {
     "cell_type": "code",
     "checksum": "dbfe393a2232a653ebbd81e518237a83",
     "grade": false,
     "grade_id": "cell-f508059dd84e9b7c",
     "locked": true,
     "schema_version": 3,
     "solution": false,
     "task": false
    }
   },
   "outputs": [
    {
     "data": {
      "text/html": [
       "<div>\n",
       "<style scoped>\n",
       "    .dataframe tbody tr th:only-of-type {\n",
       "        vertical-align: middle;\n",
       "    }\n",
       "\n",
       "    .dataframe tbody tr th {\n",
       "        vertical-align: top;\n",
       "    }\n",
       "\n",
       "    .dataframe thead th {\n",
       "        text-align: right;\n",
       "    }\n",
       "</style>\n",
       "<table border=\"1\" class=\"dataframe\">\n",
       "  <thead>\n",
       "    <tr style=\"text-align: right;\">\n",
       "      <th></th>\n",
       "      <th>ID</th>\n",
       "      <th>Date</th>\n",
       "      <th>Element</th>\n",
       "      <th>Data_Value</th>\n",
       "    </tr>\n",
       "  </thead>\n",
       "  <tbody>\n",
       "    <tr>\n",
       "      <th>0</th>\n",
       "      <td>USW00094889</td>\n",
       "      <td>2014-11-12</td>\n",
       "      <td>TMAX</td>\n",
       "      <td>22</td>\n",
       "    </tr>\n",
       "    <tr>\n",
       "      <th>1</th>\n",
       "      <td>USC00208972</td>\n",
       "      <td>2009-04-29</td>\n",
       "      <td>TMIN</td>\n",
       "      <td>56</td>\n",
       "    </tr>\n",
       "    <tr>\n",
       "      <th>2</th>\n",
       "      <td>USC00200032</td>\n",
       "      <td>2008-05-26</td>\n",
       "      <td>TMAX</td>\n",
       "      <td>278</td>\n",
       "    </tr>\n",
       "    <tr>\n",
       "      <th>3</th>\n",
       "      <td>USC00205563</td>\n",
       "      <td>2005-11-11</td>\n",
       "      <td>TMAX</td>\n",
       "      <td>139</td>\n",
       "    </tr>\n",
       "    <tr>\n",
       "      <th>4</th>\n",
       "      <td>USC00200230</td>\n",
       "      <td>2014-02-27</td>\n",
       "      <td>TMAX</td>\n",
       "      <td>-106</td>\n",
       "    </tr>\n",
       "  </tbody>\n",
       "</table>\n",
       "</div>"
      ],
      "text/plain": [
       "            ID        Date Element  Data_Value\n",
       "0  USW00094889  2014-11-12    TMAX          22\n",
       "1  USC00208972  2009-04-29    TMIN          56\n",
       "2  USC00200032  2008-05-26    TMAX         278\n",
       "3  USC00205563  2005-11-11    TMAX         139\n",
       "4  USC00200230  2014-02-27    TMAX        -106"
      ]
     },
     "execution_count": 3,
     "metadata": {},
     "output_type": "execute_result"
    }
   ],
   "source": [
    "import pandas as pd\n",
    "df = pd.read_csv('assets/fb441e62df2d58994928907a91895ec62c2c42e6cd075c2700843b89.csv')\n",
    "df.head()"
   ]
  },
  {
   "cell_type": "code",
   "execution_count": 4,
   "metadata": {},
   "outputs": [
    {
     "name": "stdout",
     "output_type": "stream",
     "text": [
      "Index\n",
      "60995     0.0\n",
      "17155    -1.1\n",
      "10079    -4.4\n",
      "2812     -5.0\n",
      "24805    -5.6\n",
      "         ... \n",
      "62065   -10.5\n",
      "46809   -11.7\n",
      "61837   -10.0\n",
      "46667   -11.1\n",
      "45477   -11.7\n",
      "Name: Data_Value, Length: 75185, dtype: float64\n",
      "Index\n",
      "17153    15.0\n",
      "10073     3.3\n",
      "60994    13.3\n",
      "39454     2.8\n",
      "18049     5.6\n",
      "         ... \n",
      "46726    -5.6\n",
      "46501    -5.6\n",
      "61764    -3.9\n",
      "45478    -2.8\n",
      "62784    -2.8\n",
      "Name: Data_Value, Length: 76143, dtype: float64\n"
     ]
    }
   ],
   "source": [
    "import numpy as np\n",
    "df = pd.read_csv('assets/fb441e62df2d58994928907a91895ec62c2c42e6cd075c2700843b89.csv')\n",
    "df.head()\n",
    "\n",
    "# In this code cell, transform the Data_Value column\n",
    "df['Data_Value'] = df['Data_Value'].apply(lambda x: x/10 )\n",
    "df['Date'] = pd.to_datetime(df['Date'], format='%Y-%m-%d')\n",
    "df = df.sort_values(by='Date', ascending=True)\n",
    "df = df[df['Date'] <= '2014-12-31']\n",
    "df\n",
    "\n",
    "testmin = df.copy()\n",
    "testmax = df.copy()\n",
    "\n",
    "testmin = testmin.loc[testmin['Element'] == 'TMIN', 'Data_Value']\n",
    "testmin.index.name = 'Index'\n",
    "# testmin.name = 'Data_Value'\n",
    "\n",
    "testmax = testmax.loc[testmax['Element'] == 'TMAX', 'Data_Value']\n",
    "testmax.index.name = 'Index'\n",
    "# testmax.name = 'Data_Value'\n",
    "\n",
    "\n",
    "\n",
    "print(testmin)\n",
    "print(testmax)"
   ]
  },
  {
   "cell_type": "code",
   "execution_count": 5,
   "metadata": {},
   "outputs": [
    {
     "name": "stdout",
     "output_type": "stream",
     "text": [
      "            Data_Value\n",
      "Date                  \n",
      "2005-01-01        -5.6\n",
      "2005-01-02        -5.6\n",
      "2005-01-03         0.0\n",
      "2005-01-04        -3.9\n",
      "2005-01-05        -9.4\n",
      "...                ...\n",
      "2014-12-27        -2.8\n",
      "2014-12-28        -6.0\n",
      "2014-12-29       -11.0\n",
      "2014-12-30       -11.1\n",
      "2014-12-31       -13.8\n",
      "\n",
      "[3652 rows x 1 columns]\n",
      "            Data_Value\n",
      "Date                  \n",
      "2005-01-01        15.6\n",
      "2005-01-02        13.9\n",
      "2005-01-03        13.3\n",
      "2005-01-04         3.9\n",
      "2005-01-05         3.3\n",
      "...                ...\n",
      "2014-12-27        11.1\n",
      "2014-12-28        13.3\n",
      "2014-12-29         8.9\n",
      "2014-12-30         3.3\n",
      "2014-12-31        -2.8\n",
      "\n",
      "[3652 rows x 1 columns]\n"
     ]
    }
   ],
   "source": [
    "import numpy as np\n",
    "df = pd.read_csv('assets/fb441e62df2d58994928907a91895ec62c2c42e6cd075c2700843b89.csv')\n",
    "df.head()\n",
    "\n",
    "# In this code cell, transform the Data_Value column\n",
    "df['Data_Value'] = df['Data_Value'].apply(lambda x: x/10 )\n",
    "df['Date'] = pd.to_datetime(df['Date'], format='%Y-%m-%d')\n",
    "df = df.sort_values(by='Date', ascending=True)\n",
    "df = df[df['Date'] <= '2014-12-31']\n",
    "\n",
    "\n",
    "tmin = df.copy()\n",
    "tmax = df.copy()\n",
    "\n",
    "tmin = tmin.groupby('Date').agg({'Data_Value': np.min})\n",
    "tmax = tmax.groupby('Date').agg({'Data_Value': np.max})\n",
    "\n",
    "print(tmin)\n",
    "print(tmax)"
   ]
  },
  {
   "cell_type": "markdown",
   "metadata": {
    "deletable": false,
    "editable": false,
    "nbgrader": {
     "cell_type": "markdown",
     "checksum": "76f2478088402765c38ed2b9db771916",
     "grade": false,
     "grade_id": "cell-c5718635688cb408",
     "locked": true,
     "schema_version": 3,
     "solution": false,
     "task": false
    }
   },
   "source": [
    "## Step 2\n",
    "In order to visualize the data we would plot the min and max data for each day of the year between the years 2005 and 2014 across all weather stations. But we also need to find out when the min or max temperature in 2015 falls below the min or rises above the max for the previous decade.\n",
    "\n",
    "If you did step 1 you have two Series objects with min and max times for the years 2005 through 2015. You can use Pandas `groupby` to create max and min temperature Series objects across all weather stations for each day of these years, and you can deal with the records for February 29 (the leap year) by dropping them.\n",
    "\n",
    "__hint: when I finished this step, I had two DataFrame objects, each with exactly 4015 observations in them__"
   ]
  },
  {
   "cell_type": "code",
   "execution_count": 6,
   "metadata": {},
   "outputs": [
    {
     "name": "stdout",
     "output_type": "stream",
     "text": [
      "            Data_Value\n",
      "Date                  \n",
      "2005-01-01        -5.6\n",
      "2005-01-02        -5.6\n",
      "2005-01-03         0.0\n",
      "2005-01-04        -3.9\n",
      "2005-01-05        -9.4\n",
      "...                ...\n",
      "2015-12-27        -0.6\n",
      "2015-12-28        -3.9\n",
      "2015-12-29        -3.9\n",
      "2015-12-30        -2.2\n",
      "2015-12-31        -5.6\n",
      "\n",
      "[4015 rows x 1 columns]\n",
      "            Data_Value\n",
      "Date                  \n",
      "2005-01-01        15.6\n",
      "2005-01-02        13.9\n",
      "2005-01-03        13.3\n",
      "2005-01-04         3.9\n",
      "2005-01-05         3.3\n",
      "...                ...\n",
      "2015-12-27         8.3\n",
      "2015-12-28         6.1\n",
      "2015-12-29        10.0\n",
      "2015-12-30         6.7\n",
      "2015-12-31         1.7\n",
      "\n",
      "[4015 rows x 1 columns]\n"
     ]
    }
   ],
   "source": [
    "import numpy as np\n",
    "df = pd.read_csv('assets/fb441e62df2d58994928907a91895ec62c2c42e6cd075c2700843b89.csv')\n",
    "df.head()\n",
    "\n",
    "# In this code cell, transform the Data_Value column\n",
    "df['Data_Value'] = df['Data_Value'].apply(lambda x: x/10 )\n",
    "df['Date'] = pd.to_datetime(df['Date'], format='%Y-%m-%d')\n",
    "df = df.sort_values(by='Date', ascending=True)\n",
    "df = df[~((df['Date'].dt.month == 2) & (df['Date'].dt.day == 29))] # remove the leap year\n",
    "\n",
    "tmin = df.copy()\n",
    "tmax = df.copy()\n",
    "\n",
    "tmin = tmin.groupby('Date').agg({'Data_Value': np.min})\n",
    "tmax = tmax.groupby('Date').agg({'Data_Value': np.max})\n",
    "\n",
    "print(tmin)\n",
    "print(tmax)"
   ]
  },
  {
   "cell_type": "markdown",
   "metadata": {
    "deletable": false,
    "editable": false,
    "nbgrader": {
     "cell_type": "markdown",
     "checksum": "0edac9c92f1b79eb9b21f302a3259c5e",
     "grade": false,
     "grade_id": "cell-d3a1a2647a47fe31",
     "locked": true,
     "schema_version": 3,
     "solution": false,
     "task": false
    }
   },
   "source": [
    "## Step 3\n",
    "Now that you have grouped the daily max and min temperatures for each day of the years 2005 through 2015, you can separate out the data for 2015. Then you can use the Pandas `groupby` function to find the max and min of the temperature data for each __day of the year__ for the 2005-2014 data.\n",
    "\n",
    "__hint: at the end of this step I had two DataFrames, one of maximum and the other of minimum values, which each had 365 observations in them. I also had another pair of similar DataFrames but only for the year 2015.__"
   ]
  },
  {
   "cell_type": "code",
   "execution_count": 7,
   "metadata": {},
   "outputs": [
    {
     "name": "stdout",
     "output_type": "stream",
     "text": [
      "           Data_Value\n",
      "Month Day            \n",
      "1     1         -16.0\n",
      "      2         -26.7\n",
      "      3         -26.7\n",
      "      4         -26.1\n",
      "      5         -15.0\n",
      "...               ...\n",
      "12    27        -13.8\n",
      "      28        -16.6\n",
      "      29        -15.0\n",
      "      30        -14.4\n",
      "      31        -15.0\n",
      "\n",
      "[365 rows x 1 columns]\n",
      "           Data_Value\n",
      "Month Day            \n",
      "1     1          15.6\n",
      "      2          13.9\n",
      "      3          13.3\n",
      "      4          10.6\n",
      "      5          12.8\n",
      "...               ...\n",
      "12    27         18.9\n",
      "      28         19.4\n",
      "      29         12.8\n",
      "      30         11.7\n",
      "      31         13.9\n",
      "\n",
      "[365 rows x 1 columns]\n",
      "           Data_Value\n",
      "Month Day            \n",
      "1     1         -13.3\n",
      "      2         -12.2\n",
      "      3          -6.7\n",
      "      4          -8.8\n",
      "      5         -15.5\n",
      "...               ...\n",
      "12    27         -0.6\n",
      "      28         -3.9\n",
      "      29         -3.9\n",
      "      30         -2.2\n",
      "      31         -5.6\n",
      "\n",
      "[365 rows x 1 columns]\n",
      "           Data_Value\n",
      "Month Day            \n",
      "1     1           1.1\n",
      "      2           3.9\n",
      "      3           3.9\n",
      "      4           4.4\n",
      "      5           2.8\n",
      "...               ...\n",
      "12    27          8.3\n",
      "      28          6.1\n",
      "      29         10.0\n",
      "      30          6.7\n",
      "      31          1.7\n",
      "\n",
      "[365 rows x 1 columns]\n"
     ]
    }
   ],
   "source": [
    "# calculate the minimum and maximum values for the day of the year for 2005 through 2014\n",
    "tmin = tmin.reset_index()\n",
    "tmin['Year'] = tmin['Date'].dt.year\n",
    "tmin['Month'] = tmin['Date'].dt.month\n",
    "tmin['Day'] = tmin['Date'].dt.day\n",
    "tmin14 = tmin[tmin['Date'] <= '2014-12-31']\n",
    "\n",
    "min0514 = tmin14.groupby(['Month', 'Day']).agg({'Data_Value':np.min})\n",
    "print(min0514)\n",
    "\n",
    "tmax = tmax.reset_index()\n",
    "tmax['Year'] = tmax['Date'].dt.year\n",
    "tmax['Month'] = tmax['Date'].dt.month\n",
    "tmax['Day'] = tmax['Date'].dt.day\n",
    "tmax14 = tmax[tmax['Date'] <= '2014-12-31']\n",
    "\n",
    "max0514 = tmax14.groupby(['Month', 'Day']).agg({'Data_Value':np.max})\n",
    "print(max0514)\n",
    "\n",
    "\n",
    "# calculate the minimum and maximum values for the years 2015\n",
    "tmin15 = tmin.set_index(['Month', 'Day'])\n",
    "tmin15 = tmin15[tmin15['Date'] > '2014-12-31']['Data_Value']\n",
    "tmin15 = tmin15.to_frame()\n",
    "print(tmin15)\n",
    "\n",
    "\n",
    "tmax15 = tmax.set_index(['Month', 'Day'])\n",
    "tmax15 = tmax15[tmax15['Date'] > '2014-12-31']['Data_Value']\n",
    "tmax15 = tmax15.to_frame()\n",
    "print(tmax15)"
   ]
  },
  {
   "cell_type": "code",
   "execution_count": 8,
   "metadata": {},
   "outputs": [],
   "source": [
    "recordmin15 = pd.merge(min0514, tmin15, how='left', left_index=True, right_index=True)\n",
    "recordmin15 = recordmin15[recordmin15['Data_Value_y'] < recordmin15['Data_Value_x']]['Data_Value_y']\n",
    "broken_min = np.where(min0514['Data_Value'] > tmin15['Data_Value']) # to get the position (day num of year) of each break\n",
    "\n",
    "\n",
    "recordmax15 = pd.merge(max0514, tmax15, how='left', left_index=True, right_index=True)\n",
    "recordmax15 = recordmax15[recordmax15['Data_Value_y'] > recordmax15['Data_Value_x']]['Data_Value_y']\n",
    "broken_max = np.where(max0514['Data_Value'] < tmax15['Data_Value']) # to get the position (day num of year) of each break\n"
   ]
  },
  {
   "cell_type": "markdown",
   "metadata": {
    "deletable": false,
    "editable": false,
    "nbgrader": {
     "cell_type": "markdown",
     "checksum": "d7de066a05b833f7ded9353ee2215ba8",
     "grade": false,
     "grade_id": "cell-25711f5fdbe49515",
     "locked": true,
     "schema_version": 3,
     "solution": false,
     "task": false
    }
   },
   "source": [
    "## Step 4\n",
    "Now it's time to plot! You need to explore matplotlib in order to plot line graphs of the min and max temperatures for the years 2005 through 2014 and to scatter plot __only__ the daily 2015 temperatures that exceeded those values."
   ]
  },
  {
   "cell_type": "code",
   "execution_count": 9,
   "metadata": {},
   "outputs": [],
   "source": [
    "t = tmin15.index\n",
    "min15index = t.get_level_values(0).tolist()"
   ]
  },
  {
   "cell_type": "code",
   "execution_count": 10,
   "metadata": {},
   "outputs": [
    {
     "data": {
      "text/plain": [
       "array([  0.        ,  33.18181818,  66.36363636,  99.54545455,\n",
       "       132.72727273, 165.90909091, 199.09090909, 232.27272727,\n",
       "       265.45454545, 298.63636364, 331.81818182, 365.        ])"
      ]
     },
     "execution_count": 10,
     "metadata": {},
     "output_type": "execute_result"
    }
   ],
   "source": [
    "np.linspace(0, 365 , num = 12)"
   ]
  },
  {
   "cell_type": "code",
   "execution_count": 16,
   "metadata": {},
   "outputs": [
    {
     "data": {
      "image/png": "[encoded data removed]",
      "text/plain": [
       "<Figure size 864x576 with 1 Axes>"
      ]
     },
     "metadata": {
      "needs_background": "light"
     },
     "output_type": "display_data"
    }
   ],
   "source": [
    "import matplotlib.pyplot as plt\n",
    "from calendar import month_abbr\n",
    "\n",
    "\n",
    "# Give shape to the plot canvas itself\n",
    "fig = plt.figure(figsize=(12,8))\n",
    "\n",
    "# Create the plot with min and max values\n",
    "plt.plot(max0514.values, label='Max Temp (2005-2014)', linewidth=1,alpha = 0.7,c='salmon')\n",
    "plt.plot(min0514.values, label='Min Temp (2005-2014)', linewidth=1,alpha = 0.7,c='royalblue');\n",
    "\n",
    "# fill in the space between max and min. Use \"np.ravel\" to convert the multi-dimensional arrays (they have lists of lists within)\n",
    "# min0514 and max0514 into one-dimensional arrays so that the function\n",
    "# can properly fill the space. \n",
    "\n",
    "plt.gca().fill_between(range(len(min0514)), \n",
    "                       np.ravel(min0514), np.ravel(max0514),\n",
    "                       facecolor='lightblue', \n",
    "                       alpha=0.4);\n",
    "\n",
    "\n",
    "# Change default xticks() to month names. Note: \"365-31\" is done to set month values at the beginning of each month\n",
    "# np.linspace(1,366-31,12) \n",
    "fig = plt.xticks([1, 32, 60, 91, 121, 152, 182, 213, 244, 274, 305, 335], \n",
    "                 ['Jan', 'Feb', 'Mar', 'Apr', 'May', 'Jun', 'Jul', 'Aug', 'Sep', 'Oct', 'Nov', 'Dec'], \n",
    "                 alpha = 1, rotation=45);\n",
    "\n",
    "# Convert y.ticks to ºC grades instead of being just numbers\n",
    "yticks = [-20,0,20,40]\n",
    "plt.gca().set_yticks(yticks)  # sets the y-axis tick locations to the values specified in the yticks list. \n",
    "                                # This function will place ticks at the specified locations on the y-axis.\n",
    "\n",
    "ylabels = pd.Series(yticks).astype(str) + ' °C'\n",
    "plt.gca().set_yticklabels(ylabels, alpha = 0.8) # set_yticklabels() is used to set the values in the locations previously specificed\n",
    "\n",
    "ax = plt.gca()\n",
    "\n",
    "# Add thin grid lines to each ytick and xtick\n",
    "plt.grid(axis='y', linestyle='--', linewidth=0.35)\n",
    "plt.grid(axis='x', linestyle=':', linewidth=0.35)\n",
    "\n",
    "\n",
    "# Plot the temperature records of 2015\n",
    "plt.scatter(broken_min, recordmin15.values, s=25, label='Min Temp break 2015')\n",
    "plt.scatter(broken_max, recordmax15.values, s=25, label='Max Temp break 2015');\n",
    "\n",
    "plt.xlabel('Months', fontsize=12, fontweight='bold', alpha=0.8)\n",
    "plt.ylabel('Temperature', fontsize=12, fontweight='bold', alpha=0.8)\n",
    "plt.title('Temperature records between the years 2005-2015', fontsize=15)\n",
    "plt.legend(loc='lower right', frameon=False, title='Legend');\n",
    "\n",
    "plt.gca().spines['top'].set_visible(False)\n",
    "plt.gca().spines['right'].set_visible(False)"
   ]
  },
  {
   "cell_type": "code",
   "execution_count": 12,
   "metadata": {},
   "outputs": [
    {
     "data": {
      "text/plain": [
       "<matplotlib.collections.PathCollection at 0x7fe346720af0>"
      ]
     },
     "execution_count": 12,
     "metadata": {},
     "output_type": "execute_result"
    },
    {
     "data": {
      "image/png": "[encoded data removed]",
      "text/plain": [
       "<Figure size 432x288 with 1 Axes>"
      ]
     },
     "metadata": {
      "needs_background": "light"
     },
     "output_type": "display_data"
    }
   ],
   "source": [
    "plt.scatter(np.arange(1,366,1), tmin15.values)\n",
    "plt.scatter(np.arange(1,366,1), tmax15.values)"
   ]
  },
  {
   "cell_type": "code",
   "execution_count": null,
   "metadata": {},
   "outputs": [],
   "source": []
  }
 ],
 "metadata": {
  "coursera": {
   "schema_names": [
    "mooc_adswpy_v1_assignment2"
   ]
  },
  "kernelspec": {
   "display_name": "Python 3 (ipykernel)",
   "language": "python",
   "name": "python3"
  },
  "language_info": {
   "codemirror_mode": {
    "name": "ipython",
    "version": 3
   },
   "file_extension": ".py",
   "mimetype": "text/x-python",
   "name": "python",
   "nbconvert_exporter": "python",
   "pygments_lexer": "ipython3",
   "version": "3.8.10"
  }
 },
 "nbformat": 4,
 "nbformat_minor": 4
}
